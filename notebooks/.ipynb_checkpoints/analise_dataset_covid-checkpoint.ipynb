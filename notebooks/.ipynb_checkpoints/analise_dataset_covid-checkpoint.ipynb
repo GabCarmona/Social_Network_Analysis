{
 "cells": [
  {
   "cell_type": "code",
   "execution_count": null,
   "id": "74d3778d",
   "metadata": {},
   "outputs": [],
   "source": [
    "import pandas as pd\n",
    "import os\n",
    "import matplotlib.pyplot as plt # Opcional, para visualizações futuras\n",
    "import seaborn as sns # Opcional, para visualizações futuras\n",
    "\n",
    "# Configurações opcionais para melhor visualização no pandas\n",
    "pd.set_option('display.max_columns', None) # Mostrar todas as colunas\n",
    "pd.set_option('display.max_colwidth', 100) # Mostrar mais do conteúdo das colunas de texto\n",
    "pd.set_option('display.width', 1000) # Aumentar a largura da exibição"
   ]
  },
  {
   "cell_type": "code",
   "execution_count": null,
   "id": "19f55c8d",
   "metadata": {},
   "outputs": [],
   "source": [
    "# Define o nome do arquivo do dataset\n",
    "dataset_filename = \"vaccination_all_tweets.csv\" # << substitua pelo nome exato do seu arquivo\n",
    "\n",
    "# Constrói o caminho para o dataset\n",
    "# Assumindo que este notebook está em 'analise_tweets_neo4j/notebooks/'\n",
    "# e o dataset está em 'analise_tweets_neo4j/data/'\n",
    "try:\n",
    "    notebook_dir = os.getcwd() # Obtém o diretório atual do notebook\n",
    "    project_root = os.path.dirname(notebook_dir) # Sobe um nível para a raiz do projeto\n",
    "    dataset_path = os.path.join(project_root, 'data', dataset_filename)\n",
    "\n",
    "    print(f\"Tentando carregar o dataset de: {dataset_path}\")\n",
    "\n",
    "    # Tenta carregar com UTF-8\n",
    "    df = pd.read_csv(dataset_path, encoding='utf-8', low_memory=False)\n",
    "    print(f\"\\nDataset '{dataset_filename}' carregado com sucesso usando UTF-8.\")\n",
    "\n",
    "except FileNotFoundError:\n",
    "    print(f\"ERRO: Arquivo não encontrado em '{dataset_path}'.\")\n",
    "    print(\"Verifique se o nome do arquivo está correto e se ele está na pasta 'data/' na raiz do projeto.\")\n",
    "    df = None\n",
    "except UnicodeDecodeError:\n",
    "    print(f\"AVISO: Falha ao decodificar '{dataset_filename}' com UTF-8. Tentando com latin1...\")\n",
    "    try:\n",
    "        df = pd.read_csv(dataset_path, encoding='latin1', low_memory=False)\n",
    "        print(f\"Dataset '{dataset_filename}' carregado com sucesso usando latin1.\")\n",
    "    except Exception as e_latin1:\n",
    "        print(f\"ERRO: Não foi possível carregar o dataset com latin1. Erro: {e_latin1}\")\n",
    "        df = None\n",
    "except Exception as e_general:\n",
    "    print(f\"ERRO: Ocorreu um problema inesperado ao carregar o dataset. Erro: {e_general}\")\n",
    "    df = None\n",
    "\n",
    "if df is not None:\n",
    "    print(f\"Número de linhas: {df.shape[0]}, Número de colunas: {df.shape[1]}\")"
   ]
  },
  {
   "cell_type": "code",
   "execution_count": null,
   "id": "dc2e5c76",
   "metadata": {},
   "outputs": [],
   "source": [
    "if df is not None:\n",
    "    print(\"--- Primeiras 5 linhas (head) ---\")\n",
    "    display(df.head()) # 'display()' é preferível a 'print()' para DataFrames em Jupyter\n",
    "else:\n",
    "    print(\"Dataset não carregado. Não é possível mostrar o head.\")"
   ]
  },
  {
   "cell_type": "code",
   "execution_count": null,
   "id": "8bc304a5",
   "metadata": {},
   "outputs": [],
   "source": [
    "if df is not None:\n",
    "    print(\"--- Informações do DataFrame (info) ---\")\n",
    "    df.info()\n",
    "else:\n",
    "    print(\"Dataset não carregado.\")"
   ]
  },
  {
   "cell_type": "code",
   "execution_count": null,
   "id": "b4bb10ea",
   "metadata": {},
   "outputs": [],
   "source": [
    "if df is not None:\n",
    "    print(\"--- Nomes das Colunas ---\")\n",
    "    colunas = list(df.columns)\n",
    "    print(colunas)\n",
    "else:\n",
    "    print(\"Dataset não carregado.\")"
   ]
  },
  {
   "cell_type": "code",
   "execution_count": null,
   "id": "7fe578e4",
   "metadata": {},
   "outputs": [],
   "source": [
    "if df is not None:\n",
    "    print(\"--- Tipos de Dados (dtypes) ---\")\n",
    "    print(df.dtypes)\n",
    "else:\n",
    "    print(\"Dataset não carregado.\")"
   ]
  },
  {
   "cell_type": "code",
   "execution_count": null,
   "id": "e218bc8b",
   "metadata": {},
   "outputs": [],
   "source": [
    "if df is not None:\n",
    "    print(\"--- Estatísticas Descritivas para Colunas Numéricas (describe) ---\")\n",
    "    display(df.describe())\n",
    "\n",
    "    print(\"\\n--- Estatísticas Descritivas para Todas as Colunas (describe(include='all')) ---\")\n",
    "    display(df.describe(include='all'))\n",
    "else:\n",
    "    print(\"Dataset não carregado.\")"
   ]
  },
  {
   "cell_type": "code",
   "execution_count": null,
   "id": "d19d58e4",
   "metadata": {},
   "outputs": [],
   "source": [
    "if df is not None:\n",
    "    print(\"--- Formato (shape) [Linhas, Colunas] ---\")\n",
    "    print(df.shape)\n",
    "else:\n",
    "    print(\"Dataset não carregado.\")"
   ]
  },
  {
   "cell_type": "code",
   "execution_count": null,
   "id": "5f3523b6",
   "metadata": {},
   "outputs": [],
   "source": [
    "if df is not None:\n",
    "    print(\"--- Valores Ausentes por Coluna (isnull().sum()) ---\")\n",
    "    valores_ausentes = df.isnull().sum()\n",
    "    print(valores_ausentes[valores_ausentes > 0].sort_values(ascending=False)) # Mostra apenas colunas com valores ausentes\n",
    "else:\n",
    "    print(\"Dataset não carregado.\")"
   ]
  },
  {
   "cell_type": "code",
   "execution_count": null,
   "id": "738910fc",
   "metadata": {},
   "outputs": [],
   "source": [
    "if df is not None:\n",
    "    # TENTATIVA DE IDENTIFICAR A COLUNA DE TEXTO (substitua se souber o nome exato)\n",
    "    nomes_comuns_coluna_texto = ['text', 'tweet', 'full_text', 'content', 'Tweet Text', 'Tweet', 'Text']\n",
    "    coluna_texto_identificada = None\n",
    "    for nome_col in nomes_comuns_coluna_texto:\n",
    "        if nome_col in df.columns:\n",
    "            coluna_texto_identificada = nome_col\n",
    "            print(f\"Coluna de texto identificada heuristicamente como: '{coluna_texto_identificada}'\")\n",
    "            break\n",
    "    \n",
    "    if coluna_texto_identificada:\n",
    "        print(f\"\\n--- Amostra da coluna '{coluna_texto_identificada}' (primeiras 5 e algumas aleatórias) ---\")\n",
    "        display(df[coluna_texto_identificada].head())\n",
    "        if len(df) > 10: # Só pega amostra aleatória se tiver mais de 10 tweets\n",
    "            display(df[coluna_texto_identificada].sample(5))\n",
    "    else:\n",
    "        print(\"\\nAVISO: Coluna de texto principal não identificada automaticamente.\")\n",
    "        print(\"Por favor, inspecione a lista de colunas (Célula 5) e substitua 'nome_da_sua_coluna_de_texto' no código para explorá-la.\")\n",
    "\n",
    "    # Explore outras colunas que parecem relevantes, por exemplo, de usuário ou data:\n",
    "    # Exemplo: coluna_usuario = 'user_screen_name' # Substitua pelo nome real\n",
    "    # if coluna_usuario in df.columns:\n",
    "    #     print(f\"\\n--- Amostra da coluna '{coluna_usuario}' ---\")\n",
    "    #     display(df[coluna_usuario].head())\n",
    "    #     print(f\"Valores únicos (aproximado): {df[coluna_usuario].nunique()}\")\n",
    "    \n",
    "    # Exemplo: coluna_data = 'created_at' # Substitua pelo nome real\n",
    "    # if coluna_data in df.columns:\n",
    "    #     print(f\"\\n--- Amostra da coluna '{coluna_data}' ---\")\n",
    "    #     display(df[coluna_data].head())\n",
    "    #     # Tente converter para datetime para ver se o formato é reconhecido\n",
    "    #     try:\n",
    "    #         df['data_convertida_teste'] = pd.to_datetime(df[coluna_data])\n",
    "    #         print(\"Teste de conversão para datetime bem-sucedido.\")\n",
    "    #         display(df['data_convertida_teste'].head())\n",
    "    #     except Exception as e_date:\n",
    "    #         print(f\"Não foi possível converter a coluna de data automaticamente para datetime. Erro: {e_date}\")\n",
    "    #         print(\"Você pode precisar especificar o formato em pd.to_datetime(df[coluna_data], format='%Y-%m-%d %H:%M:%S')\")\n",
    "\n",
    "else:\n",
    "    print(\"Dataset não carregado.\")"
   ]
  }
 ],
 "metadata": {
  "kernelspec": {
   "display_name": "venv",
   "language": "python",
   "name": "python3"
  },
  "language_info": {
   "name": "python",
   "version": "3.13.3"
  }
 },
 "nbformat": 4,
 "nbformat_minor": 5
}
